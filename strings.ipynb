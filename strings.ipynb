{
 "cells": [
  {
   "cell_type": "markdown",
   "metadata": {},
   "source": [
    "# Strings\n",
    "Declare a string variable named fruit and assing the value 'bananas'.\n",
    "\n",
    "Produce a formatted output -using print(f\"\")- to display the contents of the fruit variable and its length using the len() function."
   ]
  },
  {
   "cell_type": "code",
   "execution_count": null,
   "metadata": {},
   "outputs": [],
   "source": [
    "fruit = 'bananas'\n",
    "print(f\"{fruit} has {len(fruit)} characters\")"
   ]
  },
  {
   "cell_type": "markdown",
   "metadata": {},
   "source": [
    "To print the first character in the fruit variable, I will use the 0 index!"
   ]
  },
  {
   "cell_type": "code",
   "execution_count": null,
   "metadata": {},
   "outputs": [],
   "source": [
    "letter = fruit[0]\n",
    "print(letter)\n",
    "# or\n",
    "print(fruit[0]) #without creating a new variable to hold the letter!"
   ]
  },
  {
   "cell_type": "markdown",
   "metadata": {},
   "source": [
    "To print the **second** character, I will use index [1]\n",
    "\n",
    "To print the **seventh** and last character, I can use index [6], or [len(fruit)-1]\n"
   ]
  },
  {
   "cell_type": "code",
   "execution_count": null,
   "metadata": {},
   "outputs": [],
   "source": [
    "print(fruit[1])\n",
    "print(fruit[6])\n",
    "print(fruit[len(fruit)-1])"
   ]
  },
  {
   "cell_type": "markdown",
   "metadata": {},
   "source": [
    "## Strings are immutable. So changes are not allowed\n",
    "fruit[0]='J' -> so this command will raise a Type Error"
   ]
  },
  {
   "cell_type": "code",
   "execution_count": null,
   "metadata": {},
   "outputs": [],
   "source": [
    "fruit[0]='J'"
   ]
  },
  {
   "cell_type": "markdown",
   "metadata": {},
   "source": [
    "To change a string, declare a new one with the required change. So if we want to produce the word Jananas we should Concatenate the letter 'J' and a part \"ananas\" part. Slicing from the position 1 until the end can help us!"
   ]
  },
  {
   "cell_type": "code",
   "execution_count": null,
   "metadata": {},
   "outputs": [],
   "source": [
    "new_fruit = 'J'+ fruit[1:]\n",
    "print(new_fruit)"
   ]
  },
  {
   "cell_type": "markdown",
   "metadata": {},
   "source": [
    "Some slicing examples:\n",
    "Remember the first number is the starting index and the second number is the ending (but not including) index"
   ]
  },
  {
   "cell_type": "code",
   "execution_count": null,
   "metadata": {},
   "outputs": [],
   "source": [
    "# Returns a string slice from the second until the 3rd index\n",
    "print(fruit[2:4])\n",
    "\n",
    "#The first 3 characters: from the beginning until the 2nd index\n",
    "print(fruit[:3])\n",
    "\n",
    "# from the 4th character (index 3) until the end\n",
    "print(fruit[3:])\n",
    "\n",
    "# If the first index is greater than or equal to the second the result is an empty string\n",
    "print(fruit[3:3])\n",
    "\n",
    "print(fruit[:]) #if both parts are omitted the whole string is returned"
   ]
  },
  {
   "cell_type": "markdown",
   "metadata": {},
   "source": [
    "## String Traversal : \n",
    "using a **For Loop**"
   ]
  },
  {
   "cell_type": "code",
   "execution_count": 6,
   "metadata": {},
   "outputs": [
    {
     "name": "stdout",
     "output_type": "stream",
     "text": [
      "b-a-n-a-n-a-s-"
     ]
    }
   ],
   "source": [
    "# Traversal through a string with a for loop\n",
    "fruit='bananas'\n",
    "for char in fruit:\n",
    "    print(char) # The default character after a print command is the ENTER or newline character\n",
    "    #print(char, end = \" \")"
   ]
  },
  {
   "cell_type": "markdown",
   "metadata": {},
   "source": [
    "using a **While Loop**"
   ]
  },
  {
   "cell_type": "code",
   "execution_count": 7,
   "metadata": {},
   "outputs": [
    {
     "name": "stdout",
     "output_type": "stream",
     "text": [
      "0 b\n",
      "1 a\n",
      "2 n\n",
      "3 a\n",
      "4 n\n",
      "5 a\n",
      "6 s\n",
      "The end index value is 7\n"
     ]
    }
   ],
   "source": [
    "# Traversal through a string with a while loop\n",
    "position = 0\n",
    "while position < len(fruit):\n",
    "    char = fruit[position]\n",
    "    print(position, char)\n",
    "    position = position + 1\n",
    "print(f\"The end index value is {position}\")"
   ]
  },
  {
   "cell_type": "markdown",
   "metadata": {},
   "source": [
    "## Searching in Strings\n",
    "lets find if letter 'g' exists in bananas"
   ]
  },
  {
   "cell_type": "code",
   "execution_count": 10,
   "metadata": {},
   "outputs": [
    {
     "name": "stdout",
     "output_type": "stream",
     "text": [
      "bananas contains letter a\n"
     ]
    }
   ],
   "source": [
    "#Searching\n",
    "search_for_letter = input(\"Type a letter: \")\n",
    "if search_for_letter in fruit:\n",
    "    print(f\"{fruit} contains letter {search_for_letter}\")\n",
    "else:\n",
    "    print(f\"{fruit} does not contain letter '{search_for_letter}'\")"
   ]
  },
  {
   "cell_type": "markdown",
   "metadata": {},
   "source": [
    "### Searching in order to count occurancies of a letter in a string, using a for loop"
   ]
  },
  {
   "cell_type": "code",
   "execution_count": 12,
   "metadata": {},
   "outputs": [
    {
     "name": "stdout",
     "output_type": "stream",
     "text": [
      "bananas does not contain letter 'f'\n"
     ]
    }
   ],
   "source": [
    "#looping and counting\n",
    "search_for_letter = input(\"Type a letter: \")\n",
    "count = 0\n",
    "for letter in fruit:\n",
    "    if letter == search_for_letter:\n",
    "        count = count + 1\n",
    "\n",
    "if count > 0:\n",
    "    print(f\"{fruit} contains letter '{search_for_letter}' {count} times\")\n",
    "else:\n",
    "    print(f\"{fruit} does not contain letter '{search_for_letter}'\")"
   ]
  },
  {
   "cell_type": "markdown",
   "metadata": {},
   "source": [
    "### Counting occurances using the count() function"
   ]
  },
  {
   "cell_type": "code",
   "execution_count": null,
   "metadata": {},
   "outputs": [],
   "source": [
    "print(f\"{fruit} contains letter '{search_for_letter}' {fruit.count(search_for_letter)} times\")"
   ]
  },
  {
   "cell_type": "markdown",
   "metadata": {},
   "source": [
    "## Comparing Strings\n",
    "is BANANAS equal to bananas?\n",
    "and what if we convert everything to lower case in order to compare?\n",
    "\n",
    "*Remember:* Uppercase letters come before lower case letters"
   ]
  },
  {
   "cell_type": "code",
   "execution_count": 16,
   "metadata": {},
   "outputs": [
    {
     "name": "stdout",
     "output_type": "stream",
     "text": [
      "IN EXACT COMPARISON: BANANAS  NOT SAME AS  bananas\n",
      "BANANAS  is smaller than  bananas\n",
      "IN A CONVERTED COMPARISON:  BANANAS  same as  bananas\n"
     ]
    }
   ],
   "source": [
    "#comparing strings\n",
    "fruit = 'BANANAS'\n",
    "samefruit = 'bananas'\n",
    "\n",
    "if fruit==samefruit:\n",
    "    print(\"IN EXACT COMPARISON:\", fruit,\" same as \", samefruit)\n",
    "else:\n",
    "    print(\"IN EXACT COMPARISON:\", fruit,\" NOT SAME AS \", samefruit)\n",
    "# which is greater or comes after\n",
    "if fruit > samefruit:\n",
    "    print(fruit, \"is greater than\", samefruit)\n",
    "else:\n",
    "    print(fruit , \" is smaller than \", samefruit) # smaller means that it comes before in sort order\n",
    "\n",
    "if fruit.lower() == samefruit.lower():\n",
    "     print(\"IN A CONVERTED COMPARISON: \", fruit,\" same as \", samefruit)"
   ]
  },
  {
   "cell_type": "markdown",
   "metadata": {},
   "source": [
    "# String Functions\n",
    "- len()\n",
    "- .strip()\n",
    "- .upper()\n",
    "- .lower()\n",
    "- .title()"
   ]
  },
  {
   "cell_type": "code",
   "execution_count": 17,
   "metadata": {},
   "outputs": [
    {
     "name": "stdout",
     "output_type": "stream",
     "text": [
      "Length Before stripping: 118\n",
      "Length After stripping: 109\n",
      "STRINGS ARE AN EXAMPLE OF PYTHON OBJECTS. AN OBJECT CONTAINS BOTH DATA (THE ACTUAL STRING ITSELF) AND METHODS\n",
      "strings are an example of python objects. an object contains both data (the actual string itself) and methods\n",
      "Strings Are An Example Of Python Objects. An Object Contains Both Data (The Actual String Itself) And Methods\n"
     ]
    }
   ],
   "source": [
    "sentence = \"    Strings are an example of Python objects. An OBJECT contains both data (the actual string itself) and methods     \"\n",
    "length = len(sentence) #118 characters\n",
    "print(\"Length Before stripping:\" , length)\n",
    "\n",
    "sentence = sentence.strip()\n",
    "length = len(sentence) #109 characters\n",
    "print(\"Length After stripping:\" , length)\n",
    "\n",
    "print(sentence.upper())\n",
    "print(sentence.lower())\n",
    "print(sentence.title())"
   ]
  },
  {
   "cell_type": "markdown",
   "metadata": {},
   "source": [
    "## String functions:\n",
    "- .startswith()    \n",
    "- .find()     \n",
    "- .isdigit()"
   ]
  },
  {
   "cell_type": "code",
   "execution_count": 22,
   "metadata": {},
   "outputs": [
    {
     "name": "stdout",
     "output_type": "stream",
     "text": [
      "False\n",
      "True\n",
      "3\n",
      "False\n",
      "True\n"
     ]
    }
   ],
   "source": [
    "sentence = \"Strings are an example of Python objects.\"\n",
    "#Does the sentence start with the word 'strings'\n",
    "print(sentence.startswith(\"strings\"))\n",
    "\n",
    "#In the next example, the method lower is called and then we use startswith to\n",
    "#see if the resulting lowercase string starts with \"strings\". As long as we are\n",
    "#careful with the order, we can make multiple method calls in a single expression.\n",
    "print(sentence.lower().startswith(\"strings\"))\n",
    "\n",
    "# what is the position (index) on the string \"in\" in the sentence?\n",
    "print(sentence.find('in')) # in is found on the starting index 3\n",
    "\n",
    "# does x variable contain only digits\n",
    "x = \"100 \"\n",
    "print(x.isdigit()) # False\n",
    "print(x.strip().isdigit()) #Chaining functions applies the second on the result of the first, so TRUE\n"
   ]
  },
  {
   "cell_type": "markdown",
   "metadata": {},
   "source": [
    "## .split() \n",
    "Use split() to separate a string into parts.\n",
    "\n",
    "The result will be a list of all parts. The string will be split on every instance of the **delimeter**..."
   ]
  },
  {
   "cell_type": "code",
   "execution_count": 24,
   "metadata": {},
   "outputs": [
    {
     "name": "stdout",
     "output_type": "stream",
     "text": [
      "['this', 'is', 'a', 'line', 'of', 'text']\n"
     ]
    }
   ],
   "source": [
    "sometext=\"this is a line of text\"\n",
    "words=sometext.split(\" \")\n",
    "print(words)"
   ]
  },
  {
   "cell_type": "code",
   "execution_count": null,
   "metadata": {},
   "outputs": [],
   "source": [
    "for word in words:\n",
    "    print(word)"
   ]
  },
  {
   "cell_type": "markdown",
   "metadata": {},
   "source": [
    "## .join() \n",
    "the first example will return a new string by **joining** all items in a list into a string, using the space \" \" as **separator/delimeter**.\n",
    "The delimeter can be anything...\n",
    "In the secode example the delimeter is a semicolon ;"
   ]
  },
  {
   "cell_type": "code",
   "execution_count": null,
   "metadata": {},
   "outputs": [],
   "source": [
    "alltogether = \" \".join(words)\n",
    "print(alltogether)\n",
    "alltogether = \"-\".join(words)\n",
    "print(alltogether)"
   ]
  },
  {
   "cell_type": "markdown",
   "metadata": {},
   "source": [
    "## .replace()\n",
    "replace will replace all instances of the first string in the parenthesis with the one in the second parenthesis... \n",
    "\n",
    "ie. all \"a\"s with \"e\"s and all \"p\"s with \"bb\"s"
   ]
  },
  {
   "cell_type": "code",
   "execution_count": null,
   "metadata": {},
   "outputs": [],
   "source": [
    "fruit=\"apple\"\n",
    "newfruit = fruit.replace(\"a\",\"e\").replace(\"p\",\"bb\") # Chaining functions\n",
    "print(newfruit)"
   ]
  },
  {
   "cell_type": "markdown",
   "metadata": {},
   "source": [
    "## Advanced Search\n",
    "Find all positions of letter 'a' in the sentence...\n",
    "\n",
    "Remember that: \n",
    "- find() will return -1 if a string does not exist in another string.\n",
    "- find() starts searching from the specified position onwards... Default is the start of a string\n"
   ]
  },
  {
   "cell_type": "code",
   "execution_count": null,
   "metadata": {},
   "outputs": [],
   "source": [
    "index = 0\n",
    "while index != -1: # repeat the loop until no more a's are found\n",
    "    index = sentence.find('a', index) #search for the first occurance, initially start at index 0\n",
    "    if index >= 0:  # if 'a' is found, index will be positive\n",
    "        print(\" 'a' found in position \" , index) # display message\n",
    "        index = index + 1  # increment the position to continue searching for the next instance of 'a'\n",
    "\n",
    "print(f\"The end index value is {index}\")\n",
    "print(\"--------------------------------\")\n"
   ]
  }
 ],
 "metadata": {
  "interpreter": {
   "hash": "949777d72b0d2535278d3dc13498b2535136f6dfe0678499012e853ee9abcab1"
  },
  "kernelspec": {
   "display_name": "Python 3.10.2 64-bit",
   "language": "python",
   "name": "python3"
  },
  "language_info": {
   "codemirror_mode": {
    "name": "ipython",
    "version": 3
   },
   "file_extension": ".py",
   "mimetype": "text/x-python",
   "name": "python",
   "nbconvert_exporter": "python",
   "pygments_lexer": "ipython3",
   "version": "3.10.2"
  },
  "orig_nbformat": 4
 },
 "nbformat": 4,
 "nbformat_minor": 2
}
